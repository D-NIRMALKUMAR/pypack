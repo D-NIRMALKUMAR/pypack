{
 "cells": [
  {
   "cell_type": "code",
   "execution_count": 113,
   "metadata": {},
   "outputs": [],
   "source": [
    "import numpy as np"
   ]
  },
  {
   "cell_type": "code",
   "execution_count": 114,
   "metadata": {},
   "outputs": [],
   "source": [
    "M=np.matrix([\n",
    "    [-1,-1,-1,-1,0,-1],\n",
    "    [-1,-1,-1,0,-1,100],\n",
    "    [-1,-1,-1,0,-1,-1],\n",
    "    [-1,0,0,-1,0,-1],\n",
    "    [0,-1,-1,0,-1,100],\n",
    "    [-1,0,-1,-1,0,100]\n",
    "    ])"
   ]
  },
  {
   "cell_type": "code",
   "execution_count": 115,
   "metadata": {},
   "outputs": [],
   "source": [
    "rowss=6\n",
    "columnss=6"
   ]
  },
  {
   "cell_type": "code",
   "execution_count": 116,
   "metadata": {},
   "outputs": [],
   "source": [
    "Q=np.matrix(np.zeros([rowss,columnss]))"
   ]
  },
  {
   "cell_type": "code",
   "execution_count": 117,
   "metadata": {},
   "outputs": [],
   "source": [
    "gamma=0.80# Discount factor"
   ]
  },
  {
   "cell_type": "code",
   "execution_count": 118,
   "metadata": {},
   "outputs": [],
   "source": [
    "initial_state=0"
   ]
  },
  {
   "cell_type": "code",
   "execution_count": 119,
   "metadata": {},
   "outputs": [
    {
     "name": "stdout",
     "output_type": "stream",
     "text": [
      "[4]\n"
     ]
    }
   ],
   "source": [
    "def available_actions(state):\n",
    "    current_state_row=M[state, ]\n",
    "    available_action=np.where(current_state_row>=0)[1]\n",
    "    return available_action\n",
    "available_action =available_actions(initial_state)\n",
    "print(available_action)"
   ]
  },
  {
   "cell_type": "code",
   "execution_count": 120,
   "metadata": {},
   "outputs": [
    {
     "name": "stdout",
     "output_type": "stream",
     "text": [
      "4\n"
     ]
    }
   ],
   "source": [
    "\n",
    "def sample_next_action(available_action_range):\n",
    "    #next_action = int(np.random.choice(available_action,1))\n",
    "    next_action = int(np.random.choice(available_action))\n",
    "    return next_action\n",
    "action=sample_next_action(available_action)\n",
    "print(action)\n"
   ]
  },
  {
   "cell_type": "code",
   "execution_count": 121,
   "metadata": {},
   "outputs": [
    {
     "data": {
      "text/plain": [
       "0"
      ]
     },
     "execution_count": 121,
     "metadata": {},
     "output_type": "execute_result"
    }
   ],
   "source": [
    "def update(current_state,action,gamma):\n",
    "    max_index = np.where(Q[action, ]==np.max(Q[action,]))[1]\n",
    "    if max_index.shape[0]>1:\n",
    "       #max_index = int(np.random.choice(available_action,1))\n",
    "       max_index = int(np.random.choice(available_action))\n",
    "    else:\n",
    "        max_index = int (max_index)\n",
    "    max_value = Q[action,max_index]\n",
    "    Q[current_state,action]=M[current_state,action]+gamma*max_value\n",
    "    if (np.max(Q)>0):\n",
    "        return(np.sum(Q/np.max(Q)*100))\n",
    "    else:\n",
    "        return(0)\n",
    "update(initial_state,action,gamma)"
   ]
  },
  {
   "cell_type": "code",
   "execution_count": 122,
   "metadata": {},
   "outputs": [
    {
     "name": "stderr",
     "output_type": "stream",
     "text": [
      "C:\\Users\\ADMIN\\AppData\\Local\\Temp\\ipykernel_8140\\3393834122.py:7: DeprecationWarning: Conversion of an array with ndim > 0 to a scalar is deprecated, and will error in future. Ensure you extract a single element from your array before performing this operation. (Deprecated NumPy 1.25.)\n",
      "  max_index = int (max_index)\n"
     ]
    }
   ],
   "source": [
    "scores=[]\n",
    "for i in range(1000):\n",
    "    current_state = np.random.randint(0,int(Q.shape[0]))\n",
    "    available_action=available_actions(current_state)\n",
    "    action=sample_next_action(available_action)\n",
    "    score=update(current_state,action,gamma)\n",
    "    scores.append(score)\n",
    "    \n"
   ]
  },
  {
   "cell_type": "code",
   "execution_count": 123,
   "metadata": {},
   "outputs": [
    {
     "name": "stdout",
     "output_type": "stream",
     "text": [
      "Trained Q matrix:\n",
      "[[  0.           0.           0.           0.          79.99997739\n",
      "    0.        ]\n",
      " [  0.           0.           0.          63.99998191   0.\n",
      "  100.        ]\n",
      " [  0.           0.           0.          63.99998191   0.\n",
      "    0.        ]\n",
      " [  0.          79.9999138   51.19998553   0.          79.99997739\n",
      "    0.        ]\n",
      " [ 63.99972735   0.           0.          63.99998191   0.\n",
      "  100.        ]\n",
      " [  0.          79.99997739   0.           0.          80.\n",
      "   99.99997174]]\n"
     ]
    }
   ],
   "source": [
    "print(\"Trained Q matrix:\")\n",
    "print(Q/np.max(Q)*100)"
   ]
  },
  {
   "cell_type": "code",
   "execution_count": 124,
   "metadata": {},
   "outputs": [],
   "source": [
    "current_state=4\n",
    "steps = [current_state]\n"
   ]
  },
  {
   "cell_type": "code",
   "execution_count": 125,
   "metadata": {},
   "outputs": [
    {
     "name": "stderr",
     "output_type": "stream",
     "text": [
      "C:\\Users\\ADMIN\\AppData\\Local\\Temp\\ipykernel_8140\\3021306305.py:6: DeprecationWarning: Conversion of an array with ndim > 0 to a scalar is deprecated, and will error in future. Ensure you extract a single element from your array before performing this operation. (Deprecated NumPy 1.25.)\n",
      "  next_step_index=int(next_step_index)\n"
     ]
    }
   ],
   "source": [
    "while current_state !=5:\n",
    "    next_step_index=np.where(Q[current_state,]==np.max(Q[current_state,]))[1]\n",
    "    if next_step_index.shape[0]>1:\n",
    "        next_step_index=int(np.random.choice(next_step_index,size=1))\n",
    "    else:\n",
    "        next_step_index=int(next_step_index)\n",
    "    steps.append(next_step_index)\n",
    "    current_state=next_step_index"
   ]
  },
  {
   "cell_type": "code",
   "execution_count": 126,
   "metadata": {},
   "outputs": [
    {
     "name": "stdout",
     "output_type": "stream",
     "text": [
      "Most efficient path:\n",
      "[4, 5]\n"
     ]
    }
   ],
   "source": [
    "print(\"Most efficient path:\")\n",
    "print(steps)"
   ]
  }
 ],
 "metadata": {
  "kernelspec": {
   "display_name": "Python 3",
   "language": "python",
   "name": "python3"
  },
  "language_info": {
   "codemirror_mode": {
    "name": "ipython",
    "version": 3
   },
   "file_extension": ".py",
   "mimetype": "text/x-python",
   "name": "python",
   "nbconvert_exporter": "python",
   "pygments_lexer": "ipython3",
   "version": "3.9.10"
  }
 },
 "nbformat": 4,
 "nbformat_minor": 2
}
