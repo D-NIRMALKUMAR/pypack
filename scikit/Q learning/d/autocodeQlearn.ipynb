{
 "cells": [
  {
   "cell_type": "code",
   "execution_count": 5,
   "metadata": {},
   "outputs": [
    {
     "name": "stdout",
     "output_type": "stream",
     "text": [
      "Trained Q-table:\n",
      "[[-1.00000000e-01 -1.00000000e-01 -1.00000000e-01 -1.00000000e-01\n",
      "   4.85875141e+02  0.00000000e+00]\n",
      " [-1.00000000e-01 -1.00000000e-01 -1.00000000e-01  1.61402261e+02\n",
      "   0.00000000e+00  5.91725940e+02]\n",
      " [-1.00000000e-01 -1.00000000e-01 -1.00000000e-01  4.05057820e+02\n",
      "   0.00000000e+00  0.00000000e+00]\n",
      " [-1.00000000e-01  4.89655023e+02  1.57826291e+02  0.00000000e+00\n",
      "   8.37340502e+01  0.00000000e+00]\n",
      " [ 1.85416361e+02  0.00000000e+00  0.00000000e+00  1.55864507e+02\n",
      "   0.00000000e+00  5.89142641e+02]\n",
      " [-1.00000000e-01  1.39092825e+02  0.00000000e+00  0.00000000e+00\n",
      "   1.12403051e+02  5.89895365e+02]]\n"
     ]
    }
   ],
   "source": [
    "import numpy as np\n",
    "import random\n",
    "import matplotlib.pyplot as plt\n",
    "\n",
    "# Environment parameters\n",
    "num_states = 6\n",
    "num_actions = 6\n",
    "gamma = 0.85  # Discount factor\n",
    "alpha = 0.1   # Learning rate\n",
    "epsilon = 0.1 # Exploration rate\n",
    "num_episodes = 1000\n",
    "\n",
    "# Initialize Q-table with zeros\n",
    "Q = np.zeros((num_states, num_actions))\n",
    "\n",
    "# Define the reward matrix (based on the provided matrix)\n",
    "R = np.array([\n",
    "    [-1, -1, -1, -1, 0, -1],\n",
    "    [-1, -1, -1, 0, -1, 100],\n",
    "    [-1, -1, -1, 0, -1, -1],\n",
    "    [-1, 0, 0, -1, 0, -1],\n",
    "    [0, -1, -1, 0, -1, 100],\n",
    "    [-1, 0, -1, -1, 0, 100]\n",
    "])\n",
    "\n",
    "# Define the transition probabilities (uniform in this case)\n",
    "def get_possible_actions(state):\n",
    "    return [a for a in range(num_actions) if R[state, a] != -1]\n",
    "\n",
    "# Q-Learning algorithm\n",
    "for episode in range(num_episodes):\n",
    "    state = random.randint(0, num_states - 1)  # Start from a random state\n",
    "    done = False\n",
    "\n",
    "    while not done:\n",
    "        if random.uniform(0, 1) < epsilon:  # Exploration\n",
    "            action = random.choice(get_possible_actions(state))\n",
    "        else:  # Exploitation\n",
    "            action = np.argmax(Q[state])\n",
    "\n",
    "        # Take the action and observe the reward\n",
    "        next_state = action  # In a simple grid world, the action can be assumed to be the next state\n",
    "        reward = R[state, action]\n",
    "\n",
    "        # Update Q-table\n",
    "        best_next_action = np.argmax(Q[next_state])\n",
    "        Q[state, action] = Q[state, action] + alpha * (reward + gamma * Q[next_state, best_next_action] - Q[state, action])\n",
    "\n",
    "        # Transition to the next state\n",
    "        state = next_state\n",
    "\n",
    "        # End episode condition (in a simple case, you might want to define a condition to end the episode)\n",
    "        done = True\n",
    "\n",
    "print(\"Trained Q-table:\")\n",
    "print(Q)\n",
    "# Policy derived from Q-table\n",
    "\n"
   ]
  },
  {
   "cell_type": "code",
   "execution_count": 6,
   "metadata": {},
   "outputs": [
    {
     "name": "stdout",
     "output_type": "stream",
     "text": [
      "Path from state 2 to state 5: [2, 3, 1, 5]\n"
     ]
    }
   ],
   "source": [
    "def find_path(start_state, end_state):\n",
    "    state = start_state\n",
    "    path = [state]\n",
    "    while state != end_state:\n",
    "        action = np.argmax(Q[state])\n",
    "        path.append(action)\n",
    "        state = action\n",
    "        if state == end_state:\n",
    "            break\n",
    "    return path\n",
    "\n",
    "# Example: Find the path from state 0 to state 5\n",
    "start_state = 2\n",
    "end_state = 5\n",
    "path = find_path(start_state, end_state)\n",
    "print(f\"Path from state {start_state} to state {end_state}: {path}\")"
   ]
  }
 ],
 "metadata": {
  "kernelspec": {
   "display_name": "Python 3",
   "language": "python",
   "name": "python3"
  },
  "language_info": {
   "codemirror_mode": {
    "name": "ipython",
    "version": 3
   },
   "file_extension": ".py",
   "mimetype": "text/x-python",
   "name": "python",
   "nbconvert_exporter": "python",
   "pygments_lexer": "ipython3",
   "version": "3.9.10"
  }
 },
 "nbformat": 4,
 "nbformat_minor": 2
}
