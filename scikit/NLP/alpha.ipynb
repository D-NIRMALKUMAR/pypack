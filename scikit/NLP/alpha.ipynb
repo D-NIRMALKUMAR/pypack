{
 "cells": [
  {
   "cell_type": "code",
   "execution_count": 16,
   "metadata": {},
   "outputs": [
    {
     "ename": "NameError",
     "evalue": "name 'wXLoW' is not defined",
     "output_type": "error",
     "traceback": [
      "\u001b[1;31m---------------------------------------------------------------------------\u001b[0m",
      "\u001b[1;31mNameError\u001b[0m                                 Traceback (most recent call last)",
      "Cell \u001b[1;32mIn[16], line 19\u001b[0m\n\u001b[0;32m     15\u001b[0m     \u001b[38;5;28;01mreturn\u001b[39;00m text\n\u001b[0;32m     17\u001b[0m \u001b[38;5;66;03m# Example usage\u001b[39;00m\n\u001b[0;32m     18\u001b[0m \u001b[38;5;66;03m#image_path = \"D:\\pypack\\scikit\\NLP\\wXLoW.png\"  # Replace with path to your image\u001b[39;00m\n\u001b[1;32m---> 19\u001b[0m result \u001b[38;5;241m=\u001b[39m \u001b[43mocr_image\u001b[49m\u001b[43m(\u001b[49m\u001b[43m)\u001b[49m\n\u001b[0;32m     20\u001b[0m \u001b[38;5;28mprint\u001b[39m(\u001b[38;5;124m\"\u001b[39m\u001b[38;5;124mAlphanumeric text extracted from image:\u001b[39m\u001b[38;5;124m\"\u001b[39m, result)\n",
      "Cell \u001b[1;32mIn[16], line 7\u001b[0m, in \u001b[0;36mocr_image\u001b[1;34m()\u001b[0m\n\u001b[0;32m      5\u001b[0m \u001b[38;5;28;01mdef\u001b[39;00m \u001b[38;5;21mocr_image\u001b[39m():\n\u001b[0;32m      6\u001b[0m     \u001b[38;5;66;03m# Load image\u001b[39;00m\n\u001b[1;32m----> 7\u001b[0m     image \u001b[38;5;241m=\u001b[39m cv2\u001b[38;5;241m.\u001b[39mimread(\u001b[43mwXLoW\u001b[49m\u001b[38;5;241m.\u001b[39mpng)\n\u001b[0;32m      9\u001b[0m     \u001b[38;5;66;03m# Preprocess image (if needed)\u001b[39;00m\n\u001b[0;32m     10\u001b[0m     \u001b[38;5;66;03m# For simplicity, we skip preprocessing in this example\u001b[39;00m\n\u001b[0;32m     11\u001b[0m     \n\u001b[0;32m     12\u001b[0m     \u001b[38;5;66;03m# Perform OCR using Tesseract\u001b[39;00m\n\u001b[0;32m     13\u001b[0m     text \u001b[38;5;241m=\u001b[39m pytesseract\u001b[38;5;241m.\u001b[39mimage_to_string(image)\n",
      "\u001b[1;31mNameError\u001b[0m: name 'wXLoW' is not defined"
     ]
    }
   ],
   "source": [
    "import cv2\n",
    "import pytesseract\n",
    "\n",
    "# Function to perform OCR on an input image and extract alphanumeric text\n",
    "def ocr_image():\n",
    "    # Load image\n",
    "    image = cv2.imread(wXLoW.png)\n",
    "    \n",
    "    # Preprocess image (if needed)\n",
    "    # For simplicity, we skip preprocessing in this example\n",
    "    \n",
    "    # Perform OCR using Tesseract\n",
    "    text = pytesseract.image_to_string(image)\n",
    "    \n",
    "    return text\n",
    "\n",
    "# Example usage\n",
    "#image_path = \"D:\\pypack\\scikit\\NLP\\wXLoW.png\"  # Replace with path to your image\n",
    "result = ocr_image()\n",
    "print(\"Alphanumeric text extracted from image:\", result)"
   ]
  }
 ],
 "metadata": {
  "kernelspec": {
   "display_name": "Python 3",
   "language": "python",
   "name": "python3"
  },
  "language_info": {
   "codemirror_mode": {
    "name": "ipython",
    "version": 3
   },
   "file_extension": ".py",
   "mimetype": "text/x-python",
   "name": "python",
   "nbconvert_exporter": "python",
   "pygments_lexer": "ipython3",
   "version": "3.9.10"
  }
 },
 "nbformat": 4,
 "nbformat_minor": 2
}
