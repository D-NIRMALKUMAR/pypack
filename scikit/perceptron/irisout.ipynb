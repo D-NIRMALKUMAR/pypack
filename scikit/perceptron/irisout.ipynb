{
 "cells": [
  {
   "cell_type": "code",
   "execution_count": 12,
   "metadata": {},
   "outputs": [],
   "source": [
    "\n",
    "import pandas as pd\n",
    "import numpy as np\n",
    "from sklearn.preprocessing import StandardScaler\n",
    "import joblib"
   ]
  },
  {
   "cell_type": "code",
   "execution_count": 13,
   "metadata": {},
   "outputs": [],
   "source": [
    "# Load the model\n",
    "perceptron=joblib.load('iris_perceptron.joblib')"
   ]
  },
  {
   "cell_type": "code",
   "execution_count": 14,
   "metadata": {},
   "outputs": [],
   "source": [
    "'''\n",
    "SepalLengthCm=4.9\n",
    "SepalWidthCm=2.4\n",
    "PetalLengthCm=3.3\n",
    "PetalWidthCm=1\n",
    "'''\n",
    "# Reshape the input for prediction\n",
    "\n",
    "scaler = StandardScaler()\n",
    "\n",
    "#X_test = np.array([[SepalLengthCm, SepalWidthCm,PetalLengthCm,PetalWidthCm]])\n",
    "X_test = np.array([[4.9,2.4,3.3,1]])\n",
    "\n",
    "X_test = scaler.fit_transform(X_test)\n"
   ]
  },
  {
   "cell_type": "code",
   "execution_count": 15,
   "metadata": {},
   "outputs": [],
   "source": [
    "predictions = perceptron.predict(X_test)"
   ]
  },
  {
   "cell_type": "code",
   "execution_count": 16,
   "metadata": {},
   "outputs": [
    {
     "name": "stdout",
     "output_type": "stream",
     "text": [
      "Predicted Classes: [1]\n"
     ]
    }
   ],
   "source": [
    "# Convert probabilities to class labels\n",
    "predicted_classes = (predictions > 0.5).astype(int)\n",
    "\n",
    "# Print the first few predictions and true labels\n",
    "print(\"Predicted Classes:\", predicted_classes[:10])\n"
   ]
  },
  {
   "cell_type": "code",
   "execution_count": 17,
   "metadata": {},
   "outputs": [
    {
     "name": "stdout",
     "output_type": "stream",
     "text": [
      "class: 1\n",
      "species:  versicolor\n"
     ]
    }
   ],
   "source": [
    "import numpy as np\n",
    "# Create a NumPy array from the list of lists\n",
    "species = np.array(['setosa','versicolor','virginica'])\n",
    "classess = np.array(predicted_classes[:10])\n",
    "\n",
    "# Extract the scalar value\n",
    "scalar_value = classess.item()\n",
    "\n",
    "print(f'class: {scalar_value}')\n",
    "print('species: ',species[scalar_value])"
   ]
  }
 ],
 "metadata": {
  "kernelspec": {
   "display_name": "Python 3",
   "language": "python",
   "name": "python3"
  },
  "language_info": {
   "codemirror_mode": {
    "name": "ipython",
    "version": 3
   },
   "file_extension": ".py",
   "mimetype": "text/x-python",
   "name": "python",
   "nbconvert_exporter": "python",
   "pygments_lexer": "ipython3",
   "version": "3.9.10"
  }
 },
 "nbformat": 4,
 "nbformat_minor": 2
}
